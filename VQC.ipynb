{
 "cells": [
  {
   "cell_type": "markdown",
   "metadata": {},
   "source": [
    "### Classifying Breast Cancer Dataset using Variational Quantum Classification"
   ]
  },
  {
   "cell_type": "code",
   "execution_count": 1,
   "metadata": {},
   "outputs": [],
   "source": [
    "import numpy as np\n",
    "import matplotlib.pyplot as plt\n",
    "import pandas as pd\n",
    "from sklearn import datasets\n",
    "from sklearn.model_selection import train_test_split\n",
    "from sklearn.preprocessing import StandardScaler, MinMaxScaler\n",
    "from sklearn.decomposition import PCA\n",
    "\n",
    "from qiskit.circuit.library import ZZFeatureMap, EfficientSU2, PauliFeatureMap\n",
    "\n",
    "from qiskit.aqua.algorithms import VQC\n",
    "from qiskit.aqua.components.optimizers import COBYLA\n",
    "from qiskit import Aer, execute\n",
    "from qiskit.aqua import QuantumInstance\n",
    "\n",
    "import time"
   ]
  },
  {
   "cell_type": "code",
   "execution_count": 2,
   "metadata": {},
   "outputs": [],
   "source": [
    "cancer = datasets.load_breast_cancer()\n",
    "    \n",
    "    # To find if the classifier is accurate, a common strategy is\n",
    "    # to divide the dataset into a training set and a test set.\n",
    "    # Here the data is divided into 70% training, 30% testing.\n",
    "X_train, X_test, Y_train, Y_test = train_test_split(cancer.data, cancer.target, test_size=0.3, random_state=109)\n",
    "    \n",
    "    # Now the dataset's features will be standardized\n",
    "    # to fit a normal distribution.\n",
    "scaler = StandardScaler().fit(X_train)\n",
    "X_train = scaler.transform(X_train)\n",
    "X_test = scaler.transform(X_test)\n",
    "    \n",
    "    # To be able to use this data with the given\n",
    "    # number of qubits, the data must be broken down from\n",
    "    # `n` dimensions.\n",
    "    # This is done with Principal Component Analysis (PCA),\n",
    "    # which finds patterns while keeping variation.\n",
    "    \n",
    "n = 2\n",
    "\n",
    "pca = PCA(n_components=n).fit(X_train)\n",
    "X_train = pca.transform(X_train)\n",
    "X_test = pca.transform(X_test)\n",
    "\n",
    "    # The last step in the data processing is\n",
    "    # to scale the data to be between -1 and 1\n",
    "samples = np.append(X_train, X_test, axis=0)\n",
    "minmax_scale = MinMaxScaler((-1, 1)).fit(samples)\n",
    "X_train = minmax_scale.transform(X_train)\n",
    "X_test = minmax_scale.transform(X_test)\n",
    "\n",
    "training_size = 20\n",
    "test_size = 10\n",
    "class_labels = [r'Benign', r'Malignant']\n",
    "    # Now some sample should be picked to train the model from\n",
    "training_input = {key: (X_train[Y_train == k, :])[:training_size] for k, key in enumerate(class_labels)}\n",
    "test_input = {key: (X_train[Y_train == k, :])[training_size:(\n",
    "    training_size+test_size)] for k, key in enumerate(class_labels)}\n"
   ]
  },
  {
   "cell_type": "code",
   "execution_count": 3,
   "metadata": {},
   "outputs": [
    {
     "data": {
      "text/plain": [
       "{'Benign': array([[ 1.54666343e-01,  5.55981513e-01],\n",
       "        [-1.59901700e-01, -4.29529264e-01],\n",
       "        [-3.10571729e-01, -1.90198686e-01],\n",
       "        [-1.31476605e-01, -3.94517553e-01],\n",
       "        [-3.09442720e-01, -4.37714804e-01],\n",
       "        [-5.74283098e-01, -3.68272133e-01],\n",
       "        [-9.08218284e-02,  8.06158477e-02],\n",
       "        [-8.34836357e-02, -9.56553242e-02],\n",
       "        [-7.08568012e-01, -2.86698683e-01],\n",
       "        [-4.00284551e-02, -3.57512836e-01],\n",
       "        [-2.42542319e-01, -1.96261431e-05],\n",
       "        [-2.01462863e-01, -4.01415734e-01],\n",
       "        [-3.51150516e-01,  3.01688531e-03],\n",
       "        [ 3.94339422e-01, -7.65699924e-01],\n",
       "        [-3.05573782e-02,  7.53985894e-02],\n",
       "        [ 3.63807376e-01, -1.58992983e-01],\n",
       "        [ 2.88870769e-01,  3.71318425e-02],\n",
       "        [-2.36300673e-01,  3.59046833e-02],\n",
       "        [-4.16060955e-01, -1.60567397e-01],\n",
       "        [ 8.17221789e-02, -2.91444377e-01]]),\n",
       " 'Malignant': array([[-0.93682724, -0.41390706],\n",
       "        [-0.55804035, -0.41478057],\n",
       "        [-0.85962014, -0.26282137],\n",
       "        [-0.36261553, -0.1121841 ],\n",
       "        [-0.66975359, -0.38263219],\n",
       "        [-0.673263  , -0.29615674],\n",
       "        [-0.78021351, -0.15072037],\n",
       "        [-0.75304425, -0.16616297],\n",
       "        [-0.71677136, -0.19445472],\n",
       "        [-0.25505344,  0.21428021],\n",
       "        [-0.7950553 , -0.25827069],\n",
       "        [-0.69287086, -0.32216498],\n",
       "        [-0.59180499, -0.25318692],\n",
       "        [-0.81223138, -0.11910183],\n",
       "        [-0.8108879 , -0.0452181 ],\n",
       "        [-0.67010392, -0.22831941],\n",
       "        [-0.75478784, -0.48008403],\n",
       "        [-0.75311951, -0.20254046],\n",
       "        [-0.61649157, -0.18145188],\n",
       "        [-0.61505066, -0.14888907]])}"
      ]
     },
     "execution_count": 3,
     "metadata": {},
     "output_type": "execute_result"
    }
   ],
   "source": [
    "training_input"
   ]
  },
  {
   "cell_type": "code",
   "execution_count": 4,
   "metadata": {},
   "outputs": [
    {
     "data": {
      "text/plain": [
       "{'Benign': array([[-0.18701881, -0.05887415],\n",
       "        [-0.41969524, -0.14556651],\n",
       "        [-0.17530215,  0.11928263],\n",
       "        [-0.11330792, -0.50174817],\n",
       "        [-0.00978474, -0.40939672],\n",
       "        [-0.24896605,  0.17169182],\n",
       "        [-0.3616769 , -0.37676914],\n",
       "        [-0.3669769 , -0.38935638],\n",
       "        [-0.00982132, -0.87140379],\n",
       "        [-0.16271896, -0.37946278]]),\n",
       " 'Malignant': array([[-0.76691978, -0.26788732],\n",
       "        [-0.83274125, -0.34036737],\n",
       "        [-0.06285921,  0.6778442 ],\n",
       "        [-0.70374229, -0.364161  ],\n",
       "        [-0.90750905, -0.50363411],\n",
       "        [-0.37930336,  0.02840254],\n",
       "        [-0.73366262,  0.01485531],\n",
       "        [-0.65205472, -0.06960286],\n",
       "        [-0.78968096, -0.15883419],\n",
       "        [-0.69868338, -0.14360801]])}"
      ]
     },
     "execution_count": 4,
     "metadata": {},
     "output_type": "execute_result"
    }
   ],
   "source": [
    "test_input"
   ]
  },
  {
   "cell_type": "code",
   "execution_count": 5,
   "metadata": {},
   "outputs": [
    {
     "data": {
      "image/png": "[encoded data removed]",
      "text/plain": [
       "<Figure size 432x288 with 1 Axes>"
      ]
     },
     "metadata": {
      "needs_background": "light"
     },
     "output_type": "display_data"
    },
    {
     "name": "stdout",
     "output_type": "stream",
     "text": [
      "size training set: 40\n"
     ]
    }
   ],
   "source": [
    "plt.scatter(training_input['Benign'][:,0], training_input['Benign'][:,1])\n",
    "plt.scatter(training_input['Malignant'][:,0], training_input['Malignant'][:,1])\n",
    "plt.show()\n",
    "length_data = len(training_input['Benign']) + len(training_input['Malignant'])\n",
    "print(\"size training set: {}\".format(length_data))"
   ]
  },
  {
   "cell_type": "code",
   "execution_count": 6,
   "metadata": {},
   "outputs": [
    {
     "data": {
      "text/html": [
       "<pre style=\"word-wrap: normal;white-space: pre;background: #fff0;line-height: 1.1;font-family: &quot;Courier New&quot;,Courier,monospace\">     ┌───┐┌──────────────┐     »\n",
       "q_0: ┤ H ├┤ U1(2.0*x[0]) ├──■──»\n",
       "     ├───┤├──────────────┤┌─┴─┐»\n",
       "q_1: ┤ H ├┤ U1(2.0*x[1]) ├┤ X ├»\n",
       "     └───┘└──────────────┘└───┘»\n",
       "«                                                                         ┌───┐»\n",
       "«q_0: ─────────────────────────────────────────────────────────────────■──┤ H ├»\n",
       "«     ┌─────────────────────────────────────────────────────────────┐┌─┴─┐├───┤»\n",
       "«q_1: ┤ U1(2.0*(3.14159265358979 - x[0])*(3.14159265358979 - x[1])) ├┤ X ├┤ H ├»\n",
       "«     └─────────────────────────────────────────────────────────────┘└───┘└───┘»\n",
       "«     ┌──────────────┐     »\n",
       "«q_0: ┤ U1(2.0*x[0]) ├──■──»\n",
       "«     ├──────────────┤┌─┴─┐»\n",
       "«q_1: ┤ U1(2.0*x[1]) ├┤ X ├»\n",
       "«     └──────────────┘└───┘»\n",
       "«                                                                         \n",
       "«q_0: ─────────────────────────────────────────────────────────────────■──\n",
       "«     ┌─────────────────────────────────────────────────────────────┐┌─┴─┐\n",
       "«q_1: ┤ U1(2.0*(3.14159265358979 - x[0])*(3.14159265358979 - x[1])) ├┤ X ├\n",
       "«     └─────────────────────────────────────────────────────────────┘└───┘</pre>"
      ],
      "text/plain": [
       "     ┌───┐┌──────────────┐     »\n",
       "q_0: ┤ H ├┤ U1(2.0*x[0]) ├──■──»\n",
       "     ├───┤├──────────────┤┌─┴─┐»\n",
       "q_1: ┤ H ├┤ U1(2.0*x[1]) ├┤ X ├»\n",
       "     └───┘└──────────────┘└───┘»\n",
       "«                                                                         ┌───┐»\n",
       "«q_0: ─────────────────────────────────────────────────────────────────■──┤ H ├»\n",
       "«     ┌─────────────────────────────────────────────────────────────┐┌─┴─┐├───┤»\n",
       "«q_1: ┤ U1(2.0*(3.14159265358979 - x[0])*(3.14159265358979 - x[1])) ├┤ X ├┤ H ├»\n",
       "«     └─────────────────────────────────────────────────────────────┘└───┘└───┘»\n",
       "«     ┌──────────────┐     »\n",
       "«q_0: ┤ U1(2.0*x[0]) ├──■──»\n",
       "«     ├──────────────┤┌─┴─┐»\n",
       "«q_1: ┤ U1(2.0*x[1]) ├┤ X ├»\n",
       "«     └──────────────┘└───┘»\n",
       "«                                                                         \n",
       "«q_0: ─────────────────────────────────────────────────────────────────■──\n",
       "«     ┌─────────────────────────────────────────────────────────────┐┌─┴─┐\n",
       "«q_1: ┤ U1(2.0*(3.14159265358979 - x[0])*(3.14159265358979 - x[1])) ├┤ X ├\n",
       "«     └─────────────────────────────────────────────────────────────┘└───┘"
      ]
     },
     "execution_count": 6,
     "metadata": {},
     "output_type": "execute_result"
    }
   ],
   "source": [
    "# Feature map\n",
    "feature_map = PauliFeatureMap(feature_dimension=n, \n",
    "                                   reps=n, entanglement='full')\n",
    "feature_map.draw()"
   ]
  },
  {
   "cell_type": "code",
   "execution_count": 7,
   "metadata": {},
   "outputs": [
    {
     "data": {
      "text/html": [
       "<pre style=\"word-wrap: normal;white-space: pre;background: #fff0;line-height: 1.1;font-family: &quot;Courier New&quot;,Courier,monospace\">     ┌──────────┐┌──────────┐     ┌──────────┐┌──────────┐     ┌──────────┐»\n",
       "q_0: ┤ RY(θ[0]) ├┤ RZ(θ[2]) ├──■──┤ RY(θ[4]) ├┤ RZ(θ[6]) ├──■──┤ RY(θ[8]) ├»\n",
       "     ├──────────┤├──────────┤┌─┴─┐├──────────┤├──────────┤┌─┴─┐├──────────┤»\n",
       "q_1: ┤ RY(θ[1]) ├┤ RZ(θ[3]) ├┤ X ├┤ RY(θ[5]) ├┤ RZ(θ[7]) ├┤ X ├┤ RY(θ[9]) ├»\n",
       "     └──────────┘└──────────┘└───┘└──────────┘└──────────┘└───┘└──────────┘»\n",
       "«     ┌───────────┐\n",
       "«q_0: ┤ RZ(θ[10]) ├\n",
       "«     ├───────────┤\n",
       "«q_1: ┤ RZ(θ[11]) ├\n",
       "«     └───────────┘</pre>"
      ],
      "text/plain": [
       "     ┌──────────┐┌──────────┐     ┌──────────┐┌──────────┐     ┌──────────┐»\n",
       "q_0: ┤ RY(θ[0]) ├┤ RZ(θ[2]) ├──■──┤ RY(θ[4]) ├┤ RZ(θ[6]) ├──■──┤ RY(θ[8]) ├»\n",
       "     ├──────────┤├──────────┤┌─┴─┐├──────────┤├──────────┤┌─┴─┐├──────────┤»\n",
       "q_1: ┤ RY(θ[1]) ├┤ RZ(θ[3]) ├┤ X ├┤ RY(θ[5]) ├┤ RZ(θ[7]) ├┤ X ├┤ RY(θ[9]) ├»\n",
       "     └──────────┘└──────────┘└───┘└──────────┘└──────────┘└───┘└──────────┘»\n",
       "«     ┌───────────┐\n",
       "«q_0: ┤ RZ(θ[10]) ├\n",
       "«     ├───────────┤\n",
       "«q_1: ┤ RZ(θ[11]) ├\n",
       "«     └───────────┘"
      ]
     },
     "execution_count": 7,
     "metadata": {},
     "output_type": "execute_result"
    }
   ],
   "source": [
    "var_circuit = EfficientSU2(n, entanglement='full', reps=n)  #Variational circuit\n",
    "var_circuit.draw()"
   ]
  },
  {
   "cell_type": "code",
   "execution_count": 8,
   "metadata": {},
   "outputs": [],
   "source": [
    "cls_opt = COBYLA(maxiter=500, tol=0.001)   #classical optimizer"
   ]
  },
  {
   "cell_type": "code",
   "execution_count": 9,
   "metadata": {},
   "outputs": [],
   "source": [
    "seed = 10598\n",
    "\n",
    "# setting our backend to qasm_simulator with the \"statevector\" method on. This particular setup is given as it was \n",
    "# found to perform better than most. Feel free to play around with different backend options.\n",
    "backend = Aer.get_backend('qasm_simulator')\n",
    "backend_options = {\"method\": \"statevector\"}\n",
    "\n",
    "# creating a quantum instance using the backend and backend options taken before\n",
    "quantum_instance = QuantumInstance(backend, shots=1050, seed_simulator=seed, seed_transpiler=seed, \n",
    "                                   backend_options=backend_options)\n",
    "\n",
    "# creating a VQC instance which you will be used for training. Make sure you input the correct training_dataset and \n",
    "# testing_dataset as defined in your program.\n",
    "vqc = VQC(optimizer=cls_opt, \n",
    "          feature_map=feature_map, \n",
    "          var_form=var_circuit, \n",
    "          training_dataset=training_input,    \n",
    "          test_dataset=test_input)       "
   ]
  },
  {
   "cell_type": "code",
   "execution_count": 10,
   "metadata": {},
   "outputs": [
    {
     "name": "stdout",
     "output_type": "stream",
     "text": [
      "time taken: \n",
      "47.063204001\n",
      "testing success ratio: 0.75\n"
     ]
    }
   ],
   "source": [
    "start = time.process_time()\n",
    "\n",
    "result = vqc.run(quantum_instance)\n",
    "\n",
    "print(\"time taken: \")\n",
    "print(time.process_time() - start)\n",
    "\n",
    "print(\"testing success ratio: {}\".format(result['testing_accuracy']))"
   ]
  },
  {
   "cell_type": "code",
   "execution_count": null,
   "metadata": {},
   "outputs": [],
   "source": []
  }
 ],
 "metadata": {
  "kernelspec": {
   "display_name": "Python 3.8.5 64-bit ('quantum': conda)",
   "language": "python",
   "name": "python38564bitquantumcondac6d49497be9f46f4a52c048f3dd968a0"
  },
  "language_info": {
   "codemirror_mode": {
    "name": "ipython",
    "version": 3
   },
   "file_extension": ".py",
   "mimetype": "text/x-python",
   "name": "python",
   "nbconvert_exporter": "python",
   "pygments_lexer": "ipython3",
   "version": "3.8.5"
  }
 },
 "nbformat": 4,
 "nbformat_minor": 4
}
